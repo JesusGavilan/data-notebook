{
 "cells": [
  {
   "cell_type": "code",
   "execution_count": 1,
   "id": "88a6f75f-08b4-4751-8138-7743f35ba0ba",
   "metadata": {
    "tags": []
   },
   "outputs": [
    {
     "data": {
      "text/plain": [
       "\u001b[36mlist\u001b[39m: \u001b[32mList\u001b[39m[\u001b[32mString\u001b[39m] = \u001b[33mList\u001b[39m(\u001b[32m\"Hola\"\u001b[39m, \u001b[32m\"Mundo\"\u001b[39m)"
      ]
     },
     "execution_count": 1,
     "metadata": {},
     "output_type": "execute_result"
    }
   ],
   "source": [
    "val list: List[String] = \"Hola\" :: \"Mundo\" :: Nil"
   ]
  },
  {
   "cell_type": "code",
   "execution_count": 2,
   "id": "09213673-f802-498e-80c9-877dee232d18",
   "metadata": {
    "tags": []
   },
   "outputs": [
    {
     "data": {
      "text/plain": [
       "defined \u001b[32mfunction\u001b[39m \u001b[36mduplicate\u001b[39m"
      ]
     },
     "execution_count": 2,
     "metadata": {},
     "output_type": "execute_result"
    }
   ],
   "source": [
    "def duplicate[T](l: List[T]): List[T] = \n",
    "    l match {\n",
    "      case head :: tail => head :: head :: duplicate(tail)\n",
    "      case Nil => Nil\n",
    "    }"
   ]
  },
  {
   "cell_type": "code",
   "execution_count": 3,
   "id": "52706b68-24b2-4aa2-b174-fdf2ea03acfe",
   "metadata": {
    "tags": []
   },
   "outputs": [
    {
     "data": {
      "text/plain": [
       "\u001b[36mres2\u001b[39m: \u001b[32mList\u001b[39m[\u001b[32mString\u001b[39m] = \u001b[33mList\u001b[39m(\u001b[32m\"Hola\"\u001b[39m, \u001b[32m\"Hola\"\u001b[39m, \u001b[32m\"Mundo\"\u001b[39m, \u001b[32m\"Mundo\"\u001b[39m)"
      ]
     },
     "execution_count": 3,
     "metadata": {},
     "output_type": "execute_result"
    }
   ],
   "source": [
    "duplicate(list)"
   ]
  }
 ],
 "metadata": {
  "kernelspec": {
   "display_name": "Scala",
   "language": "scala",
   "name": "scala"
  },
  "language_info": {
   "codemirror_mode": "text/x-scala",
   "file_extension": ".sc",
   "mimetype": "text/x-scala",
   "name": "scala",
   "nbconvert_exporter": "script",
   "version": "2.12.15"
  }
 },
 "nbformat": 4,
 "nbformat_minor": 5
}
