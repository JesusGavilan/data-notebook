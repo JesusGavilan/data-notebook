{
 "cells": [
  {
   "cell_type": "code",
   "execution_count": 1,
   "id": "eec5bf2f-9e98-4a80-b765-d08cdbbefda8",
   "metadata": {
    "tags": []
   },
   "outputs": [
    {
     "data": {
      "text/html": [
       "<div><style>\n",
       ".dataframe > thead > tr > th,\n",
       ".dataframe > tbody > tr > td {\n",
       "  text-align: right;\n",
       "}\n",
       "</style>\n",
       "<small>shape: (947, 4)</small><table border=\"1\" class=\"dataframe\"><thead><tr><th>Codi</th><th>Nom</th><th>Codi comarca</th><th>Nom comarca</th></tr><tr><td>i64</td><td>str</td><td>i64</td><td>str</td></tr></thead><tbody><tr><td>250019</td><td>&quot;Abella de la C…</td><td>25</td><td>&quot;Pallars Jussà&quot;</td></tr><tr><td>80018</td><td>&quot;Abrera&quot;</td><td>11</td><td>&quot;Baix Llobregat…</td></tr><tr><td>250024</td><td>&quot;Àger&quot;</td><td>23</td><td>&quot;Noguera&quot;</td></tr><tr><td>250030</td><td>&quot;Agramunt&quot;</td><td>38</td><td>&quot;Urgell&quot;</td></tr><tr><td>80023</td><td>&quot;Aguilar de Seg…</td><td>7</td><td>&quot;Bages&quot;</td></tr><tr><td>170010</td><td>&quot;Agullana&quot;</td><td>2</td><td>&quot;Alt Empordà&quot;</td></tr><tr><td>80142</td><td>&quot;Aiguafreda&quot;</td><td>41</td><td>&quot;Vallès Orienta…</td></tr><tr><td>430017</td><td>&quot;Aiguamúrcia&quot;</td><td>1</td><td>&quot;Alt Camp&quot;</td></tr><tr><td>170025</td><td>&quot;Aiguaviva&quot;</td><td>20</td><td>&quot;Gironès&quot;</td></tr><tr><td>250387</td><td>&quot;Aitona&quot;</td><td>33</td><td>&quot;Segrià&quot;</td></tr><tr><td>250045</td><td>&quot;Alamús, els&quot;</td><td>33</td><td>&quot;Segrià&quot;</td></tr><tr><td>250058</td><td>&quot;Alàs i Cerc&quot;</td><td>4</td><td>&quot;Alt Urgell&quot;</td></tr><tr><td>&hellip;</td><td>&hellip;</td><td>&hellip;</td><td>&hellip;</td></tr><tr><td>431732</td><td>&quot;Vilella Alta, …</td><td>29</td><td>&quot;Priorat&quot;</td></tr><tr><td>431747</td><td>&quot;Vilella Baixa,…</td><td>29</td><td>&quot;Priorat&quot;</td></tr><tr><td>172333</td><td>&quot;Vilobí d&#x27;Onyar…</td><td>34</td><td>&quot;Selva&quot;</td></tr><tr><td>83041</td><td>&quot;Vilobí del Pen…</td><td>3</td><td>&quot;Alt Penedès&quot;</td></tr><tr><td>172327</td><td>&quot;Vilopriu&quot;</td><td>10</td><td>&quot;Baix Empordà&quot;</td></tr><tr><td>252537</td><td>&quot;Vilosell, el&quot;</td><td>18</td><td>&quot;Garrigues&quot;</td></tr><tr><td>431763</td><td>&quot;Vimbodí i Pobl…</td><td>16</td><td>&quot;Conca de Barbe…</td></tr><tr><td>252555</td><td>&quot;Vinaixa&quot;</td><td>18</td><td>&quot;Garrigues&quot;</td></tr><tr><td>431779</td><td>&quot;Vinebre&quot;</td><td>30</td><td>&quot;Ribera d&#x27;Ebre&quot;</td></tr><tr><td>431785</td><td>&quot;Vinyols i els …</td><td>8</td><td>&quot;Baix Camp&quot;</td></tr><tr><td>83089</td><td>&quot;Viver i Serrat…</td><td>14</td><td>&quot;Berguedà&quot;</td></tr><tr><td>430521</td><td>&quot;Xerta&quot;</td><td>9</td><td>&quot;Baix Ebre&quot;</td></tr></tbody></table></div>"
      ],
      "text/plain": [
       "shape: (947, 4)\n",
       "┌────────┬────────────────────┬──────────────┬────────────────┐\n",
       "│ Codi   ┆ Nom                ┆ Codi comarca ┆ Nom comarca    │\n",
       "│ ---    ┆ ---                ┆ ---          ┆ ---            │\n",
       "│ i64    ┆ str                ┆ i64          ┆ str            │\n",
       "╞════════╪════════════════════╪══════════════╪════════════════╡\n",
       "│ 250019 ┆ Abella de la Conca ┆ 25           ┆ Pallars Jussà  │\n",
       "│ 80018  ┆ Abrera             ┆ 11           ┆ Baix Llobregat │\n",
       "│ 250024 ┆ Àger               ┆ 23           ┆ Noguera        │\n",
       "│ 250030 ┆ Agramunt           ┆ 38           ┆ Urgell         │\n",
       "│ …      ┆ …                  ┆ …            ┆ …              │\n",
       "│ 431779 ┆ Vinebre            ┆ 30           ┆ Ribera d'Ebre  │\n",
       "│ 431785 ┆ Vinyols i els Arcs ┆ 8            ┆ Baix Camp      │\n",
       "│ 83089  ┆ Viver i Serrateix  ┆ 14           ┆ Berguedà       │\n",
       "│ 430521 ┆ Xerta              ┆ 9            ┆ Baix Ebre      │\n",
       "└────────┴────────────────────┴──────────────┴────────────────┘"
      ]
     },
     "execution_count": 1,
     "metadata": {},
     "output_type": "execute_result"
    }
   ],
   "source": [
    "import polars as pl\n",
    "df = pl.scan_csv(\"/home/jovyan/datasets/mpiscatalunya.csv\", separator=\";\").collect()\n",
    "df"
   ]
  },
  {
   "cell_type": "code",
   "execution_count": 2,
   "id": "fb968946-8036-40cf-a2e0-020c7ef77a46",
   "metadata": {
    "tags": []
   },
   "outputs": [
    {
     "data": {
      "text/html": [
       "<div><style>\n",
       ".dataframe > thead > tr > th,\n",
       ".dataframe > tbody > tr > td {\n",
       "  text-align: right;\n",
       "}\n",
       "</style>\n",
       "<small>shape: (947, 1)</small><table border=\"1\" class=\"dataframe\"><thead><tr><th>Nom</th></tr><tr><td>str</td></tr></thead><tbody><tr><td>&quot;Abella de la C…</td></tr><tr><td>&quot;Abrera&quot;</td></tr><tr><td>&quot;Àger&quot;</td></tr><tr><td>&quot;Agramunt&quot;</td></tr><tr><td>&quot;Aguilar de Seg…</td></tr><tr><td>&quot;Agullana&quot;</td></tr><tr><td>&quot;Aiguafreda&quot;</td></tr><tr><td>&quot;Aiguamúrcia&quot;</td></tr><tr><td>&quot;Aiguaviva&quot;</td></tr><tr><td>&quot;Aitona&quot;</td></tr><tr><td>&quot;Alamús, els&quot;</td></tr><tr><td>&quot;Alàs i Cerc&quot;</td></tr><tr><td>&hellip;</td></tr><tr><td>&quot;Vilella Alta, …</td></tr><tr><td>&quot;Vilella Baixa,…</td></tr><tr><td>&quot;Vilobí d&#x27;Onyar…</td></tr><tr><td>&quot;Vilobí del Pen…</td></tr><tr><td>&quot;Vilopriu&quot;</td></tr><tr><td>&quot;Vilosell, el&quot;</td></tr><tr><td>&quot;Vimbodí i Pobl…</td></tr><tr><td>&quot;Vinaixa&quot;</td></tr><tr><td>&quot;Vinebre&quot;</td></tr><tr><td>&quot;Vinyols i els …</td></tr><tr><td>&quot;Viver i Serrat…</td></tr><tr><td>&quot;Xerta&quot;</td></tr></tbody></table></div>"
      ],
      "text/plain": [
       "shape: (947, 1)\n",
       "┌────────────────────┐\n",
       "│ Nom                │\n",
       "│ ---                │\n",
       "│ str                │\n",
       "╞════════════════════╡\n",
       "│ Abella de la Conca │\n",
       "│ Abrera             │\n",
       "│ Àger               │\n",
       "│ Agramunt           │\n",
       "│ …                  │\n",
       "│ Vinebre            │\n",
       "│ Vinyols i els Arcs │\n",
       "│ Viver i Serrateix  │\n",
       "│ Xerta              │\n",
       "└────────────────────┘"
      ]
     },
     "execution_count": 2,
     "metadata": {},
     "output_type": "execute_result"
    }
   ],
   "source": [
    "df.select(\"Nom\")"
   ]
  }
 ],
 "metadata": {
  "kernelspec": {
   "display_name": "Python 3 (ipykernel)",
   "language": "python",
   "name": "python3"
  },
  "language_info": {
   "codemirror_mode": {
    "name": "ipython",
    "version": 3
   },
   "file_extension": ".py",
   "mimetype": "text/x-python",
   "name": "python",
   "nbconvert_exporter": "python",
   "pygments_lexer": "ipython3",
   "version": "3.9.7"
  }
 },
 "nbformat": 4,
 "nbformat_minor": 5
}
