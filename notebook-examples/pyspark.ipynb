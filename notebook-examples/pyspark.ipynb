{
 "cells": [
  {
   "cell_type": "code",
   "execution_count": 1,
   "id": "8d300a2d-1eb2-4586-8069-1b82b12b857d",
   "metadata": {
    "tags": []
   },
   "outputs": [],
   "source": [
    "from pyspark.sql import SparkSession\n",
    "spark = SparkSession.builder \\\n",
    "    .master(\"local[1]\") \\\n",
    "    .appName(\"Spark Example\") \\\n",
    "    .getOrCreate()"
   ]
  },
  {
   "cell_type": "code",
   "execution_count": 2,
   "id": "a72eacd3-6685-40c5-b189-8e5caed51c69",
   "metadata": {
    "tags": []
   },
   "outputs": [
    {
     "name": "stdout",
     "output_type": "stream",
     "text": [
      "root\n",
      " |-- Codi: string (nullable = true)\n",
      " |-- Nom: string (nullable = true)\n",
      " |-- Codi comarca: string (nullable = true)\n",
      " |-- Nom comarca: string (nullable = true)\n",
      " |-- _c4: string (nullable = true)\n",
      "\n",
      "+------+------------------+------------+---------------+----+\n",
      "|Codi  |Nom               |Codi comarca|Nom comarca    |_c4 |\n",
      "+------+------------------+------------+---------------+----+\n",
      "|250019|Abella de la Conca|25          |Pallars Jussà  |null|\n",
      "|080018|Abrera            |11          |Baix Llobregat |null|\n",
      "|250024|Àger              |23          |Noguera        |null|\n",
      "|250030|Agramunt          |38          |Urgell         |null|\n",
      "|080023|Aguilar de Segarra|07          |Bages          |null|\n",
      "|170010|Agullana          |02          |Alt Empordà    |null|\n",
      "|080142|Aiguafreda        |41          |Vallès Oriental|null|\n",
      "|430017|Aiguamúrcia       |01          |Alt Camp       |null|\n",
      "|170025|Aiguaviva         |20          |Gironès        |null|\n",
      "|250387|Aitona            |33          |Segrià         |null|\n",
      "|250045|Alamús, els       |33          |Segrià         |null|\n",
      "|250058|Alàs i Cerc       |04          |Alt Urgell     |null|\n",
      "|250061|Albagés, l'       |18          |Garrigues      |null|\n",
      "|170031|Albanyà           |02          |Alt Empordà    |null|\n",
      "|250077|Albatàrrec        |33          |Segrià         |null|\n",
      "|250083|Albesa            |23          |Noguera        |null|\n",
      "|250096|Albi, l'          |18          |Garrigues      |null|\n",
      "|430022|Albinyana         |12          |Baix Penedès   |null|\n",
      "|430038|Albiol, l'        |08          |Baix Camp      |null|\n",
      "|170046|Albons            |10          |Baix Empordà   |null|\n",
      "+------+------------------+------------+---------------+----+\n",
      "only showing top 20 rows\n",
      "\n"
     ]
    }
   ],
   "source": [
    "df = spark.read.options(delimiter=';',header=True).csv(\"/home/jovyan/datasets/mpiscatalunya.csv\")\n",
    "df.printSchema()\n",
    "df.show(truncate=False)"
   ]
  },
  {
   "cell_type": "code",
   "execution_count": 3,
   "id": "2b5aa2ea-07cc-4dec-9d8c-3a634c3f30a0",
   "metadata": {
    "tags": []
   },
   "outputs": [],
   "source": [
    "spark.stop()"
   ]
  }
 ],
 "metadata": {
  "kernelspec": {
   "display_name": "Python 3 (ipykernel)",
   "language": "python",
   "name": "python3"
  },
  "language_info": {
   "codemirror_mode": {
    "name": "ipython",
    "version": 3
   },
   "file_extension": ".py",
   "mimetype": "text/x-python",
   "name": "python",
   "nbconvert_exporter": "python",
   "pygments_lexer": "ipython3",
   "version": "3.9.7"
  }
 },
 "nbformat": 4,
 "nbformat_minor": 5
}
